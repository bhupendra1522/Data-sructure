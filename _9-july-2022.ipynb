{
 "cells": [
  {
   "cell_type": "markdown",
   "id": "997114ad",
   "metadata": {},
   "source": [
    "# data structure"
   ]
  },
  {
   "cell_type": "markdown",
   "id": "3fa9d932",
   "metadata": {},
   "source": [
    "list"
   ]
  },
  {
   "cell_type": "code",
   "execution_count": 95,
   "id": "a9bbec07",
   "metadata": {},
   "outputs": [],
   "source": [
    "numlist=[10,20,30,40]"
   ]
  },
  {
   "cell_type": "code",
   "execution_count": 96,
   "id": "3ceb227f",
   "metadata": {},
   "outputs": [
    {
     "data": {
      "text/plain": [
       "[10, 20, 30, 40]"
      ]
     },
     "execution_count": 96,
     "metadata": {},
     "output_type": "execute_result"
    }
   ],
   "source": [
    "numlist"
   ]
  },
  {
   "cell_type": "code",
   "execution_count": 97,
   "id": "59e78348",
   "metadata": {},
   "outputs": [],
   "source": [
    "numlist.append('50')"
   ]
  },
  {
   "cell_type": "code",
   "execution_count": 98,
   "id": "8c9d7dd4",
   "metadata": {},
   "outputs": [
    {
     "data": {
      "text/plain": [
       "[10, 20, 30, 40, '50']"
      ]
     },
     "execution_count": 98,
     "metadata": {},
     "output_type": "execute_result"
    }
   ],
   "source": [
    "numlist"
   ]
  },
  {
   "cell_type": "code",
   "execution_count": 99,
   "id": "5402e11c",
   "metadata": {},
   "outputs": [],
   "source": [
    "numlist.append(\"60\")"
   ]
  },
  {
   "cell_type": "code",
   "execution_count": 100,
   "id": "efb34b2e",
   "metadata": {},
   "outputs": [
    {
     "data": {
      "text/plain": [
       "[10, 20, 30, 40, '50', '60']"
      ]
     },
     "execution_count": 100,
     "metadata": {},
     "output_type": "execute_result"
    }
   ],
   "source": [
    "numlist"
   ]
  },
  {
   "cell_type": "code",
   "execution_count": 101,
   "id": "ef7c337a",
   "metadata": {},
   "outputs": [],
   "source": [
    "mylist=numlist"
   ]
  },
  {
   "cell_type": "code",
   "execution_count": 102,
   "id": "11b7e3b7",
   "metadata": {},
   "outputs": [
    {
     "data": {
      "text/plain": [
       "[10, 20, 30, 40, '50', '60']"
      ]
     },
     "execution_count": 102,
     "metadata": {},
     "output_type": "execute_result"
    }
   ],
   "source": [
    "mylist"
   ]
  },
  {
   "cell_type": "code",
   "execution_count": 103,
   "id": "af526b56",
   "metadata": {},
   "outputs": [],
   "source": [
    "numlist.extend([4,7,8,9])"
   ]
  },
  {
   "cell_type": "code",
   "execution_count": 104,
   "id": "2cb9f2a1",
   "metadata": {},
   "outputs": [
    {
     "data": {
      "text/plain": [
       "[10, 20, 30, 40, '50', '60', 4, 7, 8, 9]"
      ]
     },
     "execution_count": 104,
     "metadata": {},
     "output_type": "execute_result"
    }
   ],
   "source": [
    "numlist"
   ]
  },
  {
   "cell_type": "code",
   "execution_count": 155,
   "id": "62ad43d8",
   "metadata": {},
   "outputs": [],
   "source": [
    "numlist.insert(5,890)"
   ]
  },
  {
   "cell_type": "code",
   "execution_count": 156,
   "id": "dbb3f618",
   "metadata": {},
   "outputs": [
    {
     "data": {
      "text/plain": [
       "[10, 20, 30, '4100', '50', 890, '60', 4, 7, 8, 9]"
      ]
     },
     "execution_count": 156,
     "metadata": {},
     "output_type": "execute_result"
    }
   ],
   "source": [
    "numlist"
   ]
  },
  {
   "cell_type": "code",
   "execution_count": 250,
   "id": "747c623a",
   "metadata": {},
   "outputs": [
    {
     "data": {
      "text/plain": [
       "9"
      ]
     },
     "execution_count": 250,
     "metadata": {},
     "output_type": "execute_result"
    }
   ],
   "source": [
    "numlist.pop()"
   ]
  },
  {
   "cell_type": "code",
   "execution_count": 252,
   "id": "97126c69",
   "metadata": {},
   "outputs": [
    {
     "data": {
      "text/plain": [
       "5"
      ]
     },
     "execution_count": 252,
     "metadata": {},
     "output_type": "execute_result"
    }
   ],
   "source": [
    "numlist.index(890)"
   ]
  },
  {
   "cell_type": "code",
   "execution_count": 253,
   "id": "68361239",
   "metadata": {},
   "outputs": [
    {
     "data": {
      "text/plain": [
       "890"
      ]
     },
     "execution_count": 253,
     "metadata": {},
     "output_type": "execute_result"
    }
   ],
   "source": [
    "numlist.pop(5)"
   ]
  },
  {
   "cell_type": "code",
   "execution_count": 256,
   "id": "b2f5a3f5",
   "metadata": {},
   "outputs": [
    {
     "data": {
      "text/plain": [
       "[10, 20, 30, '4100', '50', '60', 4, 7, 8]"
      ]
     },
     "execution_count": 256,
     "metadata": {},
     "output_type": "execute_result"
    }
   ],
   "source": [
    "numlist"
   ]
  },
  {
   "cell_type": "code",
   "execution_count": null,
   "id": "f054a821",
   "metadata": {},
   "outputs": [],
   "source": []
  },
  {
   "cell_type": "code",
   "execution_count": 263,
   "id": "b2f01634",
   "metadata": {},
   "outputs": [],
   "source": [
    "numlist.remove('4100')"
   ]
  },
  {
   "cell_type": "code",
   "execution_count": 264,
   "id": "4a22b707",
   "metadata": {},
   "outputs": [
    {
     "data": {
      "text/plain": [
       "[10, 20, 30, '50', '60', 4, 7, 8]"
      ]
     },
     "execution_count": 264,
     "metadata": {},
     "output_type": "execute_result"
    }
   ],
   "source": [
    "numlist"
   ]
  },
  {
   "cell_type": "code",
   "execution_count": 265,
   "id": "3111024b",
   "metadata": {},
   "outputs": [
    {
     "data": {
      "text/plain": [
       "20"
      ]
     },
     "execution_count": 265,
     "metadata": {},
     "output_type": "execute_result"
    }
   ],
   "source": [
    "numlist[1]"
   ]
  },
  {
   "cell_type": "code",
   "execution_count": 266,
   "id": "ce18284a",
   "metadata": {},
   "outputs": [],
   "source": [
    "numlist[1]=14"
   ]
  },
  {
   "cell_type": "code",
   "execution_count": 267,
   "id": "4791899a",
   "metadata": {},
   "outputs": [
    {
     "data": {
      "text/plain": [
       "[10, 14, 30, '50', '60', 4, 7, 8]"
      ]
     },
     "execution_count": 267,
     "metadata": {},
     "output_type": "execute_result"
    }
   ],
   "source": [
    "numlist"
   ]
  },
  {
   "cell_type": "code",
   "execution_count": null,
   "id": "c81f58a6",
   "metadata": {},
   "outputs": [],
   "source": []
  },
  {
   "cell_type": "code",
   "execution_count": 206,
   "id": "116d1708",
   "metadata": {},
   "outputs": [],
   "source": [
    "fruitlist=['banana','mango','apple']"
   ]
  },
  {
   "cell_type": "code",
   "execution_count": 207,
   "id": "395ffb20",
   "metadata": {},
   "outputs": [
    {
     "data": {
      "text/plain": [
       "['banana', 'mango', 'apple']"
      ]
     },
     "execution_count": 207,
     "metadata": {},
     "output_type": "execute_result"
    }
   ],
   "source": [
    "fruitlist"
   ]
  },
  {
   "cell_type": "code",
   "execution_count": 208,
   "id": "05a58fd7",
   "metadata": {},
   "outputs": [
    {
     "data": {
      "text/plain": [
       "3"
      ]
     },
     "execution_count": 208,
     "metadata": {},
     "output_type": "execute_result"
    }
   ],
   "source": [
    "len(fruitlist)"
   ]
  },
  {
   "cell_type": "code",
   "execution_count": 209,
   "id": "e23abe5a",
   "metadata": {},
   "outputs": [],
   "source": [
    "fruitlist.append('papaya')"
   ]
  },
  {
   "cell_type": "code",
   "execution_count": 210,
   "id": "461e50f9",
   "metadata": {},
   "outputs": [
    {
     "data": {
      "text/plain": [
       "['banana', 'mango', 'apple', 'papaya']"
      ]
     },
     "execution_count": 210,
     "metadata": {},
     "output_type": "execute_result"
    }
   ],
   "source": [
    "fruitlist"
   ]
  },
  {
   "cell_type": "code",
   "execution_count": 211,
   "id": "189d4193",
   "metadata": {},
   "outputs": [
    {
     "data": {
      "text/plain": [
       "4"
      ]
     },
     "execution_count": 211,
     "metadata": {},
     "output_type": "execute_result"
    }
   ],
   "source": [
    "len(fruitlist)"
   ]
  },
  {
   "cell_type": "code",
   "execution_count": 212,
   "id": "6b8913e8",
   "metadata": {},
   "outputs": [],
   "source": [
    "fruitlist.append('orange')"
   ]
  },
  {
   "cell_type": "code",
   "execution_count": 213,
   "id": "17d2bdc1",
   "metadata": {},
   "outputs": [
    {
     "data": {
      "text/plain": [
       "5"
      ]
     },
     "execution_count": 213,
     "metadata": {},
     "output_type": "execute_result"
    }
   ],
   "source": [
    "len(fruitlist)"
   ]
  },
  {
   "cell_type": "code",
   "execution_count": 214,
   "id": "bcace086",
   "metadata": {},
   "outputs": [],
   "source": [
    "fruitlist.insert(1,'kiwi')"
   ]
  },
  {
   "cell_type": "code",
   "execution_count": 215,
   "id": "d864bce3",
   "metadata": {},
   "outputs": [
    {
     "data": {
      "text/plain": [
       "['banana', 'kiwi', 'mango', 'apple', 'papaya', 'orange']"
      ]
     },
     "execution_count": 215,
     "metadata": {},
     "output_type": "execute_result"
    }
   ],
   "source": [
    "fruitlist"
   ]
  },
  {
   "cell_type": "code",
   "execution_count": 216,
   "id": "022d7108",
   "metadata": {},
   "outputs": [],
   "source": [
    "fruitlist.insert(3,'graps')"
   ]
  },
  {
   "cell_type": "code",
   "execution_count": 217,
   "id": "d7127ccc",
   "metadata": {},
   "outputs": [
    {
     "data": {
      "text/plain": [
       "['banana', 'kiwi', 'mango', 'graps', 'apple', 'papaya', 'orange']"
      ]
     },
     "execution_count": 217,
     "metadata": {},
     "output_type": "execute_result"
    }
   ],
   "source": [
    "fruitlist"
   ]
  },
  {
   "cell_type": "code",
   "execution_count": 218,
   "id": "ae4705dc",
   "metadata": {},
   "outputs": [],
   "source": [
    "fruitlist.sort()"
   ]
  },
  {
   "cell_type": "code",
   "execution_count": 219,
   "id": "fbfa664c",
   "metadata": {},
   "outputs": [
    {
     "data": {
      "text/plain": [
       "['apple', 'banana', 'graps', 'kiwi', 'mango', 'orange', 'papaya']"
      ]
     },
     "execution_count": 219,
     "metadata": {},
     "output_type": "execute_result"
    }
   ],
   "source": [
    "fruitlist"
   ]
  },
  {
   "cell_type": "code",
   "execution_count": 220,
   "id": "79fbd1f1",
   "metadata": {},
   "outputs": [],
   "source": [
    "fruitlist.reverse()"
   ]
  },
  {
   "cell_type": "code",
   "execution_count": 221,
   "id": "46bd6efa",
   "metadata": {},
   "outputs": [
    {
     "data": {
      "text/plain": [
       "['papaya', 'orange', 'mango', 'kiwi', 'graps', 'banana', 'apple']"
      ]
     },
     "execution_count": 221,
     "metadata": {},
     "output_type": "execute_result"
    }
   ],
   "source": [
    "fruitlist"
   ]
  },
  {
   "cell_type": "code",
   "execution_count": 222,
   "id": "2b91aa1b",
   "metadata": {},
   "outputs": [
    {
     "data": {
      "text/plain": [
       "4"
      ]
     },
     "execution_count": 222,
     "metadata": {},
     "output_type": "execute_result"
    }
   ],
   "source": [
    "fruitlist.index('graps')"
   ]
  },
  {
   "cell_type": "code",
   "execution_count": 223,
   "id": "47232a9b",
   "metadata": {},
   "outputs": [
    {
     "data": {
      "text/plain": [
       "6"
      ]
     },
     "execution_count": 223,
     "metadata": {},
     "output_type": "execute_result"
    }
   ],
   "source": [
    "fruitlist.index('apple')"
   ]
  },
  {
   "cell_type": "code",
   "execution_count": 224,
   "id": "31609c47",
   "metadata": {},
   "outputs": [
    {
     "data": {
      "text/plain": [
       "'kiwi'"
      ]
     },
     "execution_count": 224,
     "metadata": {},
     "output_type": "execute_result"
    }
   ],
   "source": [
    "fruitlist[3]"
   ]
  },
  {
   "cell_type": "code",
   "execution_count": 225,
   "id": "e1c4404d",
   "metadata": {},
   "outputs": [],
   "source": [
    "fruitlist[3]='pinapple'"
   ]
  },
  {
   "cell_type": "code",
   "execution_count": 226,
   "id": "88a0cc77",
   "metadata": {},
   "outputs": [
    {
     "data": {
      "text/plain": [
       "['papaya', 'orange', 'mango', 'pinapple', 'graps', 'banana', 'apple']"
      ]
     },
     "execution_count": 226,
     "metadata": {},
     "output_type": "execute_result"
    }
   ],
   "source": [
    "fruitlist"
   ]
  },
  {
   "cell_type": "code",
   "execution_count": 227,
   "id": "ef7cc5d0",
   "metadata": {},
   "outputs": [],
   "source": [
    "fruitlist.extend(['pista','kaju','badam'])"
   ]
  },
  {
   "cell_type": "code",
   "execution_count": 228,
   "id": "04bbf554",
   "metadata": {},
   "outputs": [
    {
     "data": {
      "text/plain": [
       "['papaya',\n",
       " 'orange',\n",
       " 'mango',\n",
       " 'pinapple',\n",
       " 'graps',\n",
       " 'banana',\n",
       " 'apple',\n",
       " 'pista',\n",
       " 'kaju',\n",
       " 'badam']"
      ]
     },
     "execution_count": 228,
     "metadata": {},
     "output_type": "execute_result"
    }
   ],
   "source": [
    "fruitlist"
   ]
  },
  {
   "cell_type": "code",
   "execution_count": 229,
   "id": "202c5bdf",
   "metadata": {},
   "outputs": [
    {
     "data": {
      "text/plain": [
       "10"
      ]
     },
     "execution_count": 229,
     "metadata": {},
     "output_type": "execute_result"
    }
   ],
   "source": [
    "len(fruitlist)"
   ]
  },
  {
   "cell_type": "code",
   "execution_count": 230,
   "id": "1a6c435d",
   "metadata": {},
   "outputs": [
    {
     "data": {
      "text/plain": [
       "'badam'"
      ]
     },
     "execution_count": 230,
     "metadata": {},
     "output_type": "execute_result"
    }
   ],
   "source": [
    "fruitlist.pop()"
   ]
  },
  {
   "cell_type": "code",
   "execution_count": 231,
   "id": "16f381d4",
   "metadata": {},
   "outputs": [
    {
     "data": {
      "text/plain": [
       "['papaya',\n",
       " 'orange',\n",
       " 'mango',\n",
       " 'pinapple',\n",
       " 'graps',\n",
       " 'banana',\n",
       " 'apple',\n",
       " 'pista',\n",
       " 'kaju']"
      ]
     },
     "execution_count": 231,
     "metadata": {},
     "output_type": "execute_result"
    }
   ],
   "source": [
    "fruitlist"
   ]
  },
  {
   "cell_type": "code",
   "execution_count": 232,
   "id": "fdd59d91",
   "metadata": {},
   "outputs": [
    {
     "data": {
      "text/plain": [
       "'kaju'"
      ]
     },
     "execution_count": 232,
     "metadata": {},
     "output_type": "execute_result"
    }
   ],
   "source": [
    "fruitlist.pop()"
   ]
  },
  {
   "cell_type": "code",
   "execution_count": 233,
   "id": "5f7c01ea",
   "metadata": {},
   "outputs": [
    {
     "data": {
      "text/plain": [
       "['papaya', 'orange', 'mango', 'pinapple', 'graps', 'banana', 'apple', 'pista']"
      ]
     },
     "execution_count": 233,
     "metadata": {},
     "output_type": "execute_result"
    }
   ],
   "source": [
    "fruitlist"
   ]
  },
  {
   "cell_type": "code",
   "execution_count": 234,
   "id": "1475ff7d",
   "metadata": {},
   "outputs": [
    {
     "data": {
      "text/plain": [
       "'mango'"
      ]
     },
     "execution_count": 234,
     "metadata": {},
     "output_type": "execute_result"
    }
   ],
   "source": [
    "fruitlist.pop(2)"
   ]
  },
  {
   "cell_type": "code",
   "execution_count": 235,
   "id": "f7d18299",
   "metadata": {},
   "outputs": [
    {
     "data": {
      "text/plain": [
       "['papaya', 'orange', 'pinapple', 'graps', 'banana', 'apple', 'pista']"
      ]
     },
     "execution_count": 235,
     "metadata": {},
     "output_type": "execute_result"
    }
   ],
   "source": [
    "fruitlist"
   ]
  },
  {
   "cell_type": "code",
   "execution_count": 236,
   "id": "9932b834",
   "metadata": {},
   "outputs": [],
   "source": [
    "fruitlist.remove('orange')"
   ]
  },
  {
   "cell_type": "code",
   "execution_count": 237,
   "id": "08e391e2",
   "metadata": {},
   "outputs": [
    {
     "data": {
      "text/plain": [
       "['papaya', 'pinapple', 'graps', 'banana', 'apple', 'pista']"
      ]
     },
     "execution_count": 237,
     "metadata": {},
     "output_type": "execute_result"
    }
   ],
   "source": [
    "fruitlist"
   ]
  },
  {
   "cell_type": "code",
   "execution_count": 238,
   "id": "21086169",
   "metadata": {},
   "outputs": [],
   "source": [
    "fruitlist.append(\"apple\")"
   ]
  },
  {
   "cell_type": "code",
   "execution_count": 239,
   "id": "8ea8b336",
   "metadata": {},
   "outputs": [
    {
     "data": {
      "text/plain": [
       "['papaya', 'pinapple', 'graps', 'banana', 'apple', 'pista', 'apple']"
      ]
     },
     "execution_count": 239,
     "metadata": {},
     "output_type": "execute_result"
    }
   ],
   "source": [
    "fruitlist"
   ]
  },
  {
   "cell_type": "code",
   "execution_count": 240,
   "id": "b87b10f9",
   "metadata": {},
   "outputs": [],
   "source": [
    "fruitlist.remove(\"apple\")"
   ]
  },
  {
   "cell_type": "code",
   "execution_count": 241,
   "id": "64355693",
   "metadata": {},
   "outputs": [
    {
     "data": {
      "text/plain": [
       "['papaya', 'pinapple', 'graps', 'banana', 'pista', 'apple']"
      ]
     },
     "execution_count": 241,
     "metadata": {},
     "output_type": "execute_result"
    }
   ],
   "source": [
    "fruitlist"
   ]
  },
  {
   "cell_type": "code",
   "execution_count": 242,
   "id": "c3758f21",
   "metadata": {},
   "outputs": [],
   "source": [
    "fruitlist.clear()"
   ]
  },
  {
   "cell_type": "code",
   "execution_count": 195,
   "id": "c51e526f",
   "metadata": {},
   "outputs": [
    {
     "data": {
      "text/plain": [
       "[]"
      ]
     },
     "execution_count": 195,
     "metadata": {},
     "output_type": "execute_result"
    }
   ],
   "source": [
    "fruitlist"
   ]
  },
  {
   "cell_type": "code",
   "execution_count": 244,
   "id": "856e934c",
   "metadata": {},
   "outputs": [],
   "source": [
    "newfruitlist=fruitlist"
   ]
  },
  {
   "cell_type": "code",
   "execution_count": 245,
   "id": "35224825",
   "metadata": {},
   "outputs": [
    {
     "data": {
      "text/plain": [
       "[]"
      ]
     },
     "execution_count": 245,
     "metadata": {},
     "output_type": "execute_result"
    }
   ],
   "source": [
    "fruitlist"
   ]
  },
  {
   "cell_type": "code",
   "execution_count": 196,
   "id": "a398f43b",
   "metadata": {},
   "outputs": [
    {
     "data": {
      "text/plain": [
       "0"
      ]
     },
     "execution_count": 196,
     "metadata": {},
     "output_type": "execute_result"
    }
   ],
   "source": [
    "len(fruitlist)"
   ]
  },
  {
   "cell_type": "code",
   "execution_count": null,
   "id": "643c7475",
   "metadata": {},
   "outputs": [],
   "source": []
  },
  {
   "cell_type": "code",
   "execution_count": 197,
   "id": "d5eacd3b",
   "metadata": {},
   "outputs": [],
   "source": [
    "fruitlist.append('kiwi')"
   ]
  },
  {
   "cell_type": "code",
   "execution_count": 198,
   "id": "af07b1b2",
   "metadata": {},
   "outputs": [
    {
     "data": {
      "text/plain": [
       "['kiwi']"
      ]
     },
     "execution_count": 198,
     "metadata": {},
     "output_type": "execute_result"
    }
   ],
   "source": [
    "fruitlist"
   ]
  },
  {
   "cell_type": "code",
   "execution_count": 199,
   "id": "0bd72826",
   "metadata": {},
   "outputs": [],
   "source": [
    "fruitlist.append('apple')"
   ]
  },
  {
   "cell_type": "code",
   "execution_count": 200,
   "id": "3271d821",
   "metadata": {},
   "outputs": [
    {
     "data": {
      "text/plain": [
       "['kiwi', 'apple']"
      ]
     },
     "execution_count": 200,
     "metadata": {},
     "output_type": "execute_result"
    }
   ],
   "source": [
    "fruitlist"
   ]
  },
  {
   "cell_type": "code",
   "execution_count": 201,
   "id": "7ecaa2bf",
   "metadata": {},
   "outputs": [],
   "source": [
    "fruitlist.clear()"
   ]
  },
  {
   "cell_type": "code",
   "execution_count": 202,
   "id": "644746b9",
   "metadata": {},
   "outputs": [
    {
     "data": {
      "text/plain": [
       "[]"
      ]
     },
     "execution_count": 202,
     "metadata": {},
     "output_type": "execute_result"
    }
   ],
   "source": [
    "fruitlist"
   ]
  },
  {
   "cell_type": "code",
   "execution_count": 203,
   "id": "49d8a596",
   "metadata": {},
   "outputs": [],
   "source": [
    "del fruitlist"
   ]
  },
  {
   "cell_type": "code",
   "execution_count": 204,
   "id": "fe8b64ff",
   "metadata": {},
   "outputs": [
    {
     "ename": "NameError",
     "evalue": "name 'fruitlist' is not defined",
     "output_type": "error",
     "traceback": [
      "\u001b[1;31m---------------------------------------------------------------------------\u001b[0m",
      "\u001b[1;31mNameError\u001b[0m                                 Traceback (most recent call last)",
      "Input \u001b[1;32mIn [204]\u001b[0m, in \u001b[0;36m<cell line: 1>\u001b[1;34m()\u001b[0m\n\u001b[1;32m----> 1\u001b[0m \u001b[43mfruitlist\u001b[49m\n",
      "\u001b[1;31mNameError\u001b[0m: name 'fruitlist' is not defined"
     ]
    }
   ],
   "source": [
    "fruitlist"
   ]
  },
  {
   "cell_type": "code",
   "execution_count": 205,
   "id": "5c81958e",
   "metadata": {},
   "outputs": [
    {
     "ename": "NameError",
     "evalue": "name 'fruitlist' is not defined",
     "output_type": "error",
     "traceback": [
      "\u001b[1;31m---------------------------------------------------------------------------\u001b[0m",
      "\u001b[1;31mNameError\u001b[0m                                 Traceback (most recent call last)",
      "Input \u001b[1;32mIn [205]\u001b[0m, in \u001b[0;36m<cell line: 1>\u001b[1;34m()\u001b[0m\n\u001b[1;32m----> 1\u001b[0m newfruitlist\u001b[38;5;241m=\u001b[39m\u001b[43mfruitlist\u001b[49m\n",
      "\u001b[1;31mNameError\u001b[0m: name 'fruitlist' is not defined"
     ]
    }
   ],
   "source": [
    "newfruitlist=fruitlist"
   ]
  },
  {
   "cell_type": "code",
   "execution_count": 246,
   "id": "34b62b7b",
   "metadata": {},
   "outputs": [],
   "source": [
    "mobilelist=['apple','lenovo','jio']"
   ]
  },
  {
   "cell_type": "code",
   "execution_count": 247,
   "id": "89041ce7",
   "metadata": {},
   "outputs": [
    {
     "data": {
      "text/plain": [
       "['apple', 'lenovo', 'jio']"
      ]
     },
     "execution_count": 247,
     "metadata": {},
     "output_type": "execute_result"
    }
   ],
   "source": [
    "mobilelist"
   ]
  },
  {
   "cell_type": "code",
   "execution_count": 248,
   "id": "079a0071",
   "metadata": {},
   "outputs": [],
   "source": [
    "newlist=mobilelist"
   ]
  },
  {
   "cell_type": "code",
   "execution_count": 249,
   "id": "9610c944",
   "metadata": {},
   "outputs": [
    {
     "data": {
      "text/plain": [
       "['apple', 'lenovo', 'jio']"
      ]
     },
     "execution_count": 249,
     "metadata": {},
     "output_type": "execute_result"
    }
   ],
   "source": [
    "newlist"
   ]
  },
  {
   "cell_type": "code",
   "execution_count": 268,
   "id": "3d316ad7",
   "metadata": {
    "scrolled": true
   },
   "outputs": [
    {
     "data": {
      "text/plain": [
       "['apple', 'lenovo', 'jio']"
      ]
     },
     "execution_count": 268,
     "metadata": {},
     "output_type": "execute_result"
    }
   ],
   "source": [
    "mobilelist"
   ]
  },
  {
   "cell_type": "code",
   "execution_count": null,
   "id": "7d35bed6",
   "metadata": {},
   "outputs": [],
   "source": [
    "tuples"
   ]
  },
  {
   "cell_type": "code",
   "execution_count": null,
   "id": "98149ed7",
   "metadata": {},
   "outputs": [],
   "source": []
  },
  {
   "cell_type": "code",
   "execution_count": 270,
   "id": "4f4f04e5",
   "metadata": {},
   "outputs": [],
   "source": [
    "t1=(10,20,30,40,50)"
   ]
  },
  {
   "cell_type": "code",
   "execution_count": 271,
   "id": "53a97aae",
   "metadata": {},
   "outputs": [
    {
     "data": {
      "text/plain": [
       "(10, 20, 30, 40, 50)"
      ]
     },
     "execution_count": 271,
     "metadata": {},
     "output_type": "execute_result"
    }
   ],
   "source": [
    "t1"
   ]
  },
  {
   "cell_type": "code",
   "execution_count": 272,
   "id": "70c9f0f7",
   "metadata": {},
   "outputs": [
    {
     "data": {
      "text/plain": [
       "10"
      ]
     },
     "execution_count": 272,
     "metadata": {},
     "output_type": "execute_result"
    }
   ],
   "source": [
    "t1[0]"
   ]
  },
  {
   "cell_type": "code",
   "execution_count": 273,
   "id": "c185c326",
   "metadata": {},
   "outputs": [
    {
     "data": {
      "text/plain": [
       "20"
      ]
     },
     "execution_count": 273,
     "metadata": {},
     "output_type": "execute_result"
    }
   ],
   "source": [
    "t1[1]"
   ]
  },
  {
   "cell_type": "code",
   "execution_count": 274,
   "id": "385e4407",
   "metadata": {},
   "outputs": [
    {
     "ename": "TypeError",
     "evalue": "'tuple' object does not support item assignment",
     "output_type": "error",
     "traceback": [
      "\u001b[1;31m---------------------------------------------------------------------------\u001b[0m",
      "\u001b[1;31mTypeError\u001b[0m                                 Traceback (most recent call last)",
      "Input \u001b[1;32mIn [274]\u001b[0m, in \u001b[0;36m<cell line: 1>\u001b[1;34m()\u001b[0m\n\u001b[1;32m----> 1\u001b[0m t1[\u001b[38;5;241m1\u001b[39m]\u001b[38;5;241m=\u001b[39m\u001b[38;5;241m866\u001b[39m\n",
      "\u001b[1;31mTypeError\u001b[0m: 'tuple' object does not support item assignment"
     ]
    }
   ],
   "source": [
    "t1[1]=866"
   ]
  },
  {
   "cell_type": "code",
   "execution_count": null,
   "id": "075db46f",
   "metadata": {},
   "outputs": [],
   "source": []
  }
 ],
 "metadata": {
  "kernelspec": {
   "display_name": "Python 3 (ipykernel)",
   "language": "python",
   "name": "python3"
  },
  "language_info": {
   "codemirror_mode": {
    "name": "ipython",
    "version": 3
   },
   "file_extension": ".py",
   "mimetype": "text/x-python",
   "name": "python",
   "nbconvert_exporter": "python",
   "pygments_lexer": "ipython3",
   "version": "3.9.12"
  }
 },
 "nbformat": 4,
 "nbformat_minor": 5
}
